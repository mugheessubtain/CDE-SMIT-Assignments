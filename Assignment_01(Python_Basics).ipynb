{
 "cells": [
  {
   "cell_type": "markdown",
   "metadata": {},
   "source": [
    "## M.Mughees Subtain (CDE-401845) \n",
    "# Part -1 Python Basics (Variables)"
   ]
  },
  {
   "cell_type": "markdown",
   "metadata": {},
   "source": [
    "1. Print Your Name with your Father name and Date of birth using suitable escape sequence charactor"
   ]
  },
  {
   "cell_type": "code",
   "execution_count": 21,
   "metadata": {},
   "outputs": [
    {
     "name": "stdout",
     "output_type": "stream",
     "text": [
      "My name is M.Mughees Subtain \n",
      "My Father name is Quosain Muhammad \n",
      "My Date of Birth is 26-6-2006\n"
     ]
    }
   ],
   "source": [
    "print(\"My name is M.Mughees Subtain \\nMy Father name is Quosain Muhammad \\nMy Date of Birth is 26-6-2006\")"
   ]
  },
  {
   "cell_type": "markdown",
   "metadata": {},
   "source": [
    "2. Write your small bio using variables and print it using print function"
   ]
  },
  {
   "cell_type": "code",
   "execution_count": 23,
   "metadata": {},
   "outputs": [
    {
     "name": "stdout",
     "output_type": "stream",
     "text": [
      "My name is M.Mughees Subtain\n",
      "My Father name is Quosain Muhammad\n",
      "My Date of Birth is 26-6-2006\n"
     ]
    }
   ],
   "source": [
    "name=\"M.Mughees Subtain\"\n",
    "father_name=\"Quosain Muhammad\"\n",
    "date_of_birth=\"26-6-2006\"\n",
    "print(\"My name is\",name)\n",
    "print(\"My Father name is\",father_name)\n",
    "print(\"My Date of Birth is\",date_of_birth)"
   ]
  },
  {
   "cell_type": "markdown",
   "metadata": {},
   "source": [
    "3. Write a program in which use all the operators we can use in Python"
   ]
  },
  {
   "cell_type": "code",
   "execution_count": 57,
   "metadata": {},
   "outputs": [
    {
     "name": "stdout",
     "output_type": "stream",
     "text": [
      "Sum of 5 and 10 is 15\n",
      "Subtraction of 5 and 10 is -5\n",
      "Multiplication of 5 and 10 is 50\n",
      "Division of 5 and 10 is 0.5\n",
      "Modulus of 5 and 10 is 5\n",
      "Exponent of 5 and 10 is 9765625\n",
      "Floor Division of 5 and 10 is 0\n",
      "5 is greater than 10 is False\n",
      "5 is less than 10 is True\n",
      "5 is equal to 10 is False\n",
      "5 is not equal to 10 is True\n",
      "5 is greater than or equal to 10 is False\n",
      "5 is less than or equal to 10 is True\n",
      "x and y =  False\n",
      "x or y  =  True\n",
      "not x   =  False\n"
     ]
    }
   ],
   "source": [
    "a=5\n",
    "b=10\n",
    "sum=a+b\n",
    "sub=a-b\n",
    "mul=a*b\n",
    "div=a/b\n",
    "mod=a%b\n",
    "exp=a**b\n",
    "floor_div=a//b\n",
    "greater=a>b\n",
    "less=a<b\n",
    "equal=a==b\n",
    "not_equal=a!=b\n",
    "greater_equal=a>=b\n",
    "less_equal=a<=b\n",
    "x: bool = True\n",
    "y: bool = False\n",
    "\n",
    "print(f\"Sum of {a} and {b} is {sum}\")\n",
    "print(f\"Subtraction of {a} and {b} is {sub}\")\n",
    "print(f\"Multiplication of {a} and {b} is {mul}\")\n",
    "print(f\"Division of {a} and {b} is {div}\")\n",
    "print(f\"Modulus of {a} and {b} is {mod}\")\n",
    "print(f\"Exponent of {a} and {b} is {exp}\")\n",
    "print(f\"Floor Division of {a} and {b} is {floor_div}\")\n",
    "print(f\"{a} is greater than {b} is {greater}\")\n",
    "print(f\"{a} is less than {b} is {less}\")\n",
    "print(f\"{a} is equal to {b} is {equal}\")\n",
    "print(f\"{a} is not equal to {b} is {not_equal}\")\n",
    "print(f\"{a} is greater than or equal to {b} is {greater_equal}\")\n",
    "print(f\"{a} is less than or equal to {b} is {less_equal}\")\n",
    "print(\"x and y = \", x and y)  \n",
    "print(\"x or y  = \", x or y)   \n",
    "print(\"not x   = \", not x)    \n"
   ]
  },
  {
   "cell_type": "markdown",
   "metadata": {},
   "source": [
    "4. Completes the following steps of small task:\n",
    "    - Mention Marks of English , Islamiat and Maths out of 100 in 3 different variables\n",
    "    - Mention Variable of Total Marks and assign 300 to it\n",
    "    - Calculate Percentage"
   ]
  },
  {
   "cell_type": "code",
   "execution_count": 26,
   "metadata": {},
   "outputs": [
    {
     "name": "stdout",
     "output_type": "stream",
     "text": [
      "Total Marks:  300\n",
      "Obtained Marks:  265\n",
      "Percentage:  88.33333333333333\n"
     ]
    }
   ],
   "source": [
    "eng=int(input(\"Enter your English Marks: \"))\n",
    "isl=int(input(\"Enter your Islamiat Marks: \"))\n",
    "math=int(input(\"Enter your Mathematics Marks: \"))\n",
    "total=300\n",
    "obtainedMarks=eng+isl+math\n",
    "per=obtainedMarks/total*100\n",
    "print(\"Total Marks: \",total)\n",
    "print(\"Obtained Marks: \",obtainedMarks)\n",
    "print(\"Percentage: \",per)\n"
   ]
  },
  {
   "cell_type": "markdown",
   "metadata": {},
   "source": [
    "# Part -2 Python Basics (Conditional Statements)"
   ]
  },
  {
   "cell_type": "markdown",
   "metadata": {},
   "source": [
    "1) A company decided to give bonus of 5% to employee if his/her year of service is more than 5 years.\n",
    "Ask user for their salary and year of service and print the net bonus amount."
   ]
  },
  {
   "cell_type": "code",
   "execution_count": null,
   "metadata": {},
   "outputs": [
    {
     "name": "stdout",
     "output_type": "stream",
     "text": [
      "Your Bonus is:  2500.0\n"
     ]
    }
   ],
   "source": [
    "sal=int(input(\"Enter your Salary: \"))\n",
    "serYears=int(input(\"Enter your Year of Service: \"))\n",
    "if serYears>5:\n",
    "    bonus=sal*0.05\n",
    "    print(\"Your Bonus is: \",bonus)\n",
    "    print(\"Your Total Salary is: \",sal+bonus)\n",
    "else:\n",
    "    print(\"You are not eligible for Bonus\")"
   ]
  },
  {
   "cell_type": "markdown",
   "metadata": {},
   "source": [
    "\n",
    "2) Write a program to check whether a person is eligible for voting or not. (accept age from user) if age is greater than 17 eligible otherwise not eligible"
   ]
  },
  {
   "cell_type": "code",
   "execution_count": 28,
   "metadata": {},
   "outputs": [
    {
     "name": "stdout",
     "output_type": "stream",
     "text": [
      "You are eligible for Vote\n"
     ]
    }
   ],
   "source": [
    "age=int(input(\"Enter your Age: \"))\n",
    "if age>17:\n",
    "    print(\"You are eligible for Vote\")\n",
    "else:\n",
    "    print(\"You are not eligible for Vote\")"
   ]
  },
  {
   "cell_type": "markdown",
   "metadata": {},
   "source": [
    "\n",
    "3) Write a program to check whether a number entered by user is even or odd."
   ]
  },
  {
   "cell_type": "code",
   "execution_count": 30,
   "metadata": {},
   "outputs": [
    {
     "name": "stdout",
     "output_type": "stream",
     "text": [
      "5 is Odd\n"
     ]
    }
   ],
   "source": [
    "num=int(input(\"enter any Number\"))\n",
    "if num%2==0:\n",
    "    print(f\"{num} is Even\")\n",
    "else:\n",
    "    print(f\"{num} is Odd\")"
   ]
  },
  {
   "cell_type": "markdown",
   "metadata": {},
   "source": [
    "4) Write a program to check whether a number is divisible by 7 or not.\n",
    "Show Answer"
   ]
  },
  {
   "cell_type": "code",
   "execution_count": null,
   "metadata": {},
   "outputs": [
    {
     "name": "stdout",
     "output_type": "stream",
     "text": [
      "20 is not Divisible by 7\n"
     ]
    }
   ],
   "source": [
    "num=int(input(\"enter any Number\"))\n",
    "if num%7==0:\n",
    "    print(f\"{num} is Divisible by 7\")\n",
    "else:\n",
    "    print(f\"{num} is not Divisible by 7\")"
   ]
  },
  {
   "cell_type": "markdown",
   "metadata": {},
   "source": [
    "5) Write a program to display \n",
    "\"Hello\" if a number entered by user is a multiple of five , otherwise print \"Bye\"."
   ]
  },
  {
   "cell_type": "code",
   "execution_count": 34,
   "metadata": {},
   "outputs": [
    {
     "name": "stdout",
     "output_type": "stream",
     "text": [
      "Bye\n"
     ]
    }
   ],
   "source": [
    "num=int(input(\"enter any Number\"))\n",
    "if num%5==0:\n",
    "    print(\"Hello\")\n",
    "else:\n",
    "    print(\"Bye\")"
   ]
  },
  {
   "cell_type": "markdown",
   "metadata": {},
   "source": [
    "7) Write a program to display the last digit of a number.\n"
   ]
  },
  {
   "cell_type": "code",
   "execution_count": 35,
   "metadata": {},
   "outputs": [
    {
     "name": "stdout",
     "output_type": "stream",
     "text": [
      "Last Digit is:  1\n"
     ]
    }
   ],
   "source": [
    "num=int(input(\"enter any Number\"))\n",
    "print(\"Last Digit is: \",num%10)"
   ]
  },
  {
   "cell_type": "markdown",
   "metadata": {},
   "source": [
    "9) Take values of length and breadth of a rectangle from user and print if it is square or rectangle."
   ]
  },
  {
   "cell_type": "code",
   "execution_count": 37,
   "metadata": {},
   "outputs": [
    {
     "name": "stdout",
     "output_type": "stream",
     "text": [
      "rectangle\n"
     ]
    }
   ],
   "source": [
    "length = int(input(\"enter lenght: \\n\"))\n",
    "breadth = int(input(\"enter breadth: \\n\"))\n",
    "if length == breadth:\n",
    "    print(\"square\")\n",
    "else:\n",
    "    print(\"rectangle\") "
   ]
  },
  {
   "cell_type": "markdown",
   "metadata": {},
   "source": [
    "10) Take two int values from user and print greatest among them."
   ]
  },
  {
   "cell_type": "code",
   "execution_count": 38,
   "metadata": {},
   "outputs": [
    {
     "name": "stdout",
     "output_type": "stream",
     "text": [
      "5 is greater than 1\n"
     ]
    }
   ],
   "source": [
    "a=int(input(\"Enter First Number: \"))\n",
    "b=int(input(\"Enter Second Number: \"))\n",
    "if a>b:\n",
    "    print(f\"{a} is greater than {b}\")\n",
    "else:\n",
    "    print(f\"{b} is greater than {a}\")"
   ]
  },
  {
   "cell_type": "markdown",
   "metadata": {},
   "source": [
    "11) A shop will give discount of 10% if the cost of purchased quantity is more than 1000.\n",
    "Ask user for quantity\n",
    "Suppose, one unit will cost 100.\n",
    "Judge and print total cost for user."
   ]
  },
  {
   "cell_type": "code",
   "execution_count": null,
   "metadata": {},
   "outputs": [
    {
     "name": "stdout",
     "output_type": "stream",
     "text": [
      "You got a 10% discount of 110.0!\n",
      "Total cost: 990.0\n"
     ]
    }
   ],
   "source": [
    "\n",
    "quantity = int(input(\"Enter the quantity you want to purchase: \"))\n",
    "price = 100\n",
    "totalCost = quantity * price\n",
    "if totalCost > 1000:\n",
    "    discount = totalCost * 0.10\n",
    "    totalCost -= discount\n",
    "    print(f\"You got a 10% discount of {discount}\")\n",
    "\n",
    "# Print final cost\n",
    "print(f\"Total cost: {totalCost}\")\n"
   ]
  },
  {
   "cell_type": "markdown",
   "metadata": {},
   "source": [
    "12) A school has following rules for grading system:\n",
    "\n",
    "a. Below 25 - F\n",
    "\n",
    "b. 25 to 45 - E\n",
    "\n",
    "c. 45 to 50 - D\n",
    "\n",
    "d. 50 to 60 - C\n",
    "\n",
    "e. 60 to 80 - B\n",
    "\n",
    "f. Above 80 - A\n",
    "\n",
    "Ask user to enter marks and print the corresponding grade."
   ]
  },
  {
   "cell_type": "code",
   "execution_count": 45,
   "metadata": {},
   "outputs": [
    {
     "name": "stdout",
     "output_type": "stream",
     "text": [
      "A\n"
     ]
    }
   ],
   "source": [
    "marks = int(input(\"Enter marks\"))\n",
    "if marks > 80 and marks<=100:\n",
    "    print(\"A\")\n",
    "elif marks > 60 and marks<=80:\n",
    "    print(\"B\")\n",
    "elif marks > 50 and marks<=60:\n",
    "    print(\"C\")\n",
    "elif marks > 45 and marks<=50:\n",
    "    print(\"D\")\n",
    "elif marks >= 25 and marks<=45:\n",
    "    print(\"E\")\n",
    "elif marks<25:\n",
    "    print(\"F\")    \n",
    "else:\n",
    "    print(\"Invalid Marks\")"
   ]
  },
  {
   "cell_type": "markdown",
   "metadata": {},
   "source": [
    "14)A student will not be allowed to sit in exam if his/her attendence is less than 75%.\n",
    "\n",
    "Take following input from user\n",
    "\n",
    "- Number of classes held\n",
    "\n",
    "- Number of classes attended.\n",
    "\n",
    "And print\n",
    "\n",
    "- percentage of class attended\n",
    "\n",
    "- Is student is allowed to sit in exam or not.\n"
   ]
  },
  {
   "cell_type": "code",
   "execution_count": 48,
   "metadata": {},
   "outputs": [
    {
     "name": "stdout",
     "output_type": "stream",
     "text": [
      "Percentage: 89.0%\n",
      "You are allowed to sit in exam\n"
     ]
    }
   ],
   "source": [
    "totalClasses = int(input(\"Enter total number of classes held: \"))\n",
    "classesAttended = int(input(\"Enter total number of classes attended: \"))\n",
    "attendance = (classesAttended/totalClasses)*100\n",
    "print(f\"Percentage: {attendance}%\")\n",
    "if attendance>=70:\n",
    "    print(\"You are allowed to sit in exam\")\n",
    "else:\n",
    "    print(\"You are not allowed to sit in exam\")"
   ]
  },
  {
   "cell_type": "markdown",
   "metadata": {},
   "source": [
    "15) Modify the above question to allow student to sit if he/she has medical cause. Ask user if he/she has medical cause or not ( 'Y' or 'N' ) and print accordingly."
   ]
  },
  {
   "cell_type": "code",
   "execution_count": 51,
   "metadata": {},
   "outputs": [
    {
     "name": "stdout",
     "output_type": "stream",
     "text": [
      "Percentage: 68.0%\n",
      "You are allowed to sit in exam\n"
     ]
    }
   ],
   "source": [
    "totalClasses = int(input(\"Enter total number of classes held: \"))\n",
    "classesAttended = int(input(\"Enter total number of classes attended: \"))\n",
    "attendance = (classesAttended/totalClasses)*100\n",
    "print(f\"Percentage: {attendance}%\")\n",
    "if attendance>=70:\n",
    "    print(\"You are allowed to sit in exam\")\n",
    "else:\n",
    "    med=input(\"Do you have any medical issue? \")\n",
    "    if med==\"Y\":\n",
    "        print(\"You are allowed to sit in exam\")\n",
    "    else:\n",
    "        print(\"You are not allowed to sit in exam\")"
   ]
  },
  {
   "cell_type": "markdown",
   "metadata": {},
   "source": [
    "16) Write a program to check if a year is leap year or not.\n",
    "\n",
    "If a year is divisible by 4 then it is leap year but if the year is century year like 2000, 1900, 2100 then it must be divisible by 400."
   ]
  },
  {
   "cell_type": "code",
   "execution_count": 53,
   "metadata": {},
   "outputs": [
    {
     "name": "stdout",
     "output_type": "stream",
     "text": [
      "Not a Leap Year\n"
     ]
    }
   ],
   "source": [
    "year = int(input(\"Enter a Year\"))\n",
    "if year%4 == 0 and (year%100==00 and year%400==0):\n",
    "    print(\"Leap Year\")\n",
    "else :\n",
    "    print(\"Not a Leap Year\")"
   ]
  },
  {
   "cell_type": "markdown",
   "metadata": {},
   "source": [
    "17) Ask user to enter age, gender ( M or F ), marital status ( Y or N ) and then using following rules print their place of service.\n",
    "\n",
    "if employee is female, then she will work only in urban areas.\n",
    "\n",
    "if employee is a male and age is in between 20 to 40 then he may work in anywhere\n",
    "\n",
    "if employee is male and age is in between 40 t0 60 then he will work in urban areas only.\n",
    "\n",
    "And any other input of age should print \"ERROR\""
   ]
  },
  {
   "cell_type": "code",
   "execution_count": null,
   "metadata": {},
   "outputs": [
    {
     "name": "stdout",
     "output_type": "stream",
     "text": [
      "You will work anywhere\n"
     ]
    }
   ],
   "source": [
    "age=int(input(\"Enter your Age: \"))\n",
    "gender=input(\"Enter your Gender\")\n",
    "maritalStatus=input(\"Enter your Marital Status\")\n",
    "if gender==\"Female\":\n",
    "    print(\"You will work only in urban areas\")\n",
    "elif gender==\"male\":\n",
    "    if(age>=20 and age<=40):\n",
    "        print(\"You will work anywhere\")\n",
    "    elif(age>40 and age<=60):\n",
    "        print(\"you will work in only urban areas\")\n",
    "else:\n",
    "    print(\"ERROR\")"
   ]
  },
  {
   "cell_type": "markdown",
   "metadata": {},
   "source": [
    "6) Write a program to calculate the electricity bill (accept number of unit from user) according to the following criteria :\n",
    "     Unit                                                     Price  \n",
    "uptp 100 units                                             no charge\n",
    "Next 200 units                                              Rs 5 per unit\n",
    "After 200 units                                             Rs 10 per unit\n",
    "(For example if input unit is 350 than total bill amount is Rs.3500\n",
    "(For example if input unit is 97 than total bill amount is Rs.0\n",
    "(For example if input unit is 150 than total bill amount is Rs.750"
   ]
  },
  {
   "cell_type": "code",
   "execution_count": 61,
   "metadata": {},
   "outputs": [
    {
     "name": "stdout",
     "output_type": "stream",
     "text": [
      "no charge\n"
     ]
    }
   ],
   "source": [
    "unit = int(input(\"Enter the number of units : \"))\n",
    "if unit<=100:\n",
    "    print(\"no charge\")\n",
    "elif unit>100 and unit<=200:\n",
    "    print(\"Total Bill: \",unit*5)\n",
    "elif unit>200:\n",
    "    print(\"Total Bill: \",unit*10)   "
   ]
  },
  {
   "cell_type": "markdown",
   "metadata": {},
   "source": [
    "13) Take input of age of 3 people by user and determine oldest and youngest among them."
   ]
  },
  {
   "cell_type": "code",
   "execution_count": 65,
   "metadata": {},
   "outputs": [
    {
     "name": "stdout",
     "output_type": "stream",
     "text": [
      "2 is the oldest\n"
     ]
    }
   ],
   "source": [
    "age1=int(input(\"Enter age:\"))\n",
    "age2=int(input(\"Enter age:\"))\n",
    "age3=int(input(\"Enter age:\"))\n",
    "if age1>age2 and age1>age3:\n",
    "    print(f\"{age1} is the oldest\")\n",
    "elif age2>age1 and age2>age3:\n",
    "    print(f\"{age2} is the oldest\")   \n",
    "elif age3>age1 and age3>age2:\n",
    "    print(f\"{age3} is the oldest\") \n",
    "else:\n",
    "    print(\"All 3 ages are equal!\")\n",
    "    "
   ]
  },
  {
   "cell_type": "code",
   "execution_count": null,
   "metadata": {},
   "outputs": [],
   "source": []
  }
 ],
 "metadata": {
  "kernelspec": {
   "display_name": "Python 3",
   "language": "python",
   "name": "python3"
  },
  "language_info": {
   "codemirror_mode": {
    "name": "ipython",
    "version": 3
   },
   "file_extension": ".py",
   "mimetype": "text/x-python",
   "name": "python",
   "nbconvert_exporter": "python",
   "pygments_lexer": "ipython3",
   "version": "3.13.2"
  }
 },
 "nbformat": 4,
 "nbformat_minor": 2
}
