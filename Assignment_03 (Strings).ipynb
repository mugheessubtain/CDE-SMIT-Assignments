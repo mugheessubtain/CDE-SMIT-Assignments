{
 "cells": [
  {
   "cell_type": "markdown",
   "metadata": {},
   "source": [
    "## M.Mughees Subtain (CDE-401845)\n",
    "# Assignment-03 (Strings)\n"
   ]
  },
  {
   "cell_type": "markdown",
   "metadata": {},
   "source": [
    "1. Write a program that accepts a string from user. Your program should count and display number of\n",
    "vowels in that string. \n"
   ]
  },
  {
   "cell_type": "code",
   "execution_count": 8,
   "metadata": {},
   "outputs": [
    {
     "name": "stdout",
     "output_type": "stream",
     "text": [
      "Vowel Count is 2\n"
     ]
    }
   ],
   "source": [
    "str=input(\"Enter any String\")\n",
    "vowelCount=0\n",
    "consonantCount=0\n",
    "for i in str:\n",
    "    if i in \"aeiouAEIOU\":\n",
    "        vowelCount+=1\n",
    "print(\"Vowel Count is\",vowelCount)\n"
   ]
  },
  {
   "cell_type": "markdown",
   "metadata": {},
   "source": [
    "2. Write a program that reads a string from keyboard and display:\n",
    "* The number of uppercase letters in the string\n",
    "* The number of lowercase letters in the string\n",
    "* The number of digits in the string\n",
    "* The number of whitespace characters in the string \n"
   ]
  },
  {
   "cell_type": "code",
   "execution_count": 2,
   "metadata": {},
   "outputs": [
    {
     "name": "stdout",
     "output_type": "stream",
     "text": [
      "Uppercase letters: 3\n",
      "Lowercase letters: 7\n",
      "Digits: 0\n",
      "Whitespace characters: 1\n"
     ]
    }
   ],
   "source": [
    "str=input(\"Enter any String\")\n",
    "\n",
    "upperCase = 0\n",
    "lowercase = 0\n",
    "digits = 0\n",
    "whitespace = 0\n",
    "\n",
    "for char in str:\n",
    "    if char.isupper():\n",
    "        upperCase += 1\n",
    "    elif char.islower():\n",
    "        lowercase += 1\n",
    "    elif char.isdigit():\n",
    "        digits += 1\n",
    "    elif char.isspace():\n",
    "        whitespace += 1\n",
    "\n",
    "print(\"Uppercase letters:\", upperCase)\n",
    "print(\"Lowercase letters:\", lowercase)\n",
    "print(\"Digits:\", digits)\n",
    "print(\"Whitespace characters:\", whitespace)\n",
    "\n"
   ]
  },
  {
   "cell_type": "markdown",
   "metadata": {},
   "source": [
    "3. Write a Python program that accepts a string from user. Your program should create and display a\n",
    "new string where the first and last characters have been exchanged. \n"
   ]
  },
  {
   "cell_type": "code",
   "execution_count": 5,
   "metadata": {},
   "outputs": [
    {
     "name": "stdout",
     "output_type": "stream",
     "text": [
      "sugheeM\n"
     ]
    }
   ],
   "source": [
    "str=input(\"Enter any String\")\n",
    "strLast=str[-1]\n",
    "strFirst=str[0]\n",
    "strMiddle=str[1:-1]\n",
    "NewStr=strLast+strMiddle+strFirst\n",
    "print(NewStr)\n"
   ]
  },
  {
   "cell_type": "markdown",
   "metadata": {},
   "source": [
    "4. Write a Python program that accepts a string from user. Your program should create a new string in\n",
    "reverse of first string and display it.\n",
    "For example if the user enters the string 'EXAM' then new string would be 'MAXE'"
   ]
  },
  {
   "cell_type": "code",
   "execution_count": 9,
   "metadata": {},
   "outputs": [
    {
     "name": "stdout",
     "output_type": "stream",
     "text": [
      "MAXE\n"
     ]
    }
   ],
   "source": [
    "str=input(\"Enter any String\")\n",
    "reversedStr = str[::-1]\n",
    "print(reversedStr)"
   ]
  },
  {
   "cell_type": "markdown",
   "metadata": {},
   "source": [
    "5. Write a Python program that accepts a string from user. Your program should create a new string by\n",
    "shifting one position to left.\n",
    "For example if the user enters the string 'examination 2021' then new string would be 'xamination\n",
    "2021e'"
   ]
  },
  {
   "cell_type": "code",
   "execution_count": 10,
   "metadata": {},
   "outputs": [
    {
     "name": "stdout",
     "output_type": "stream",
     "text": [
      "xamination 2021e\n"
     ]
    }
   ],
   "source": [
    "str=input(\"Enter any String\")\n",
    "firstChr=str[0]\n",
    "remainingChr=str[1:]\n",
    "NewStr=remainingChr+firstChr\n",
    "print(NewStr)"
   ]
  },
  {
   "cell_type": "markdown",
   "metadata": {},
   "source": [
    " 6. Write a program that asks the user to input his name and print its initials. Assuming that the user\n",
    "always types first name, middle name and last name and does not include any unnecessary spaces.\n",
    "For example, if the user enters Ajay Kumar Garg the program should display A. K. G.\n",
    "Note:Don't use split() method"
   ]
  },
  {
   "cell_type": "code",
   "execution_count": 14,
   "metadata": {},
   "outputs": [
    {
     "name": "stdout",
     "output_type": "stream",
     "text": [
      "Initials: M. M. S. \n"
     ]
    }
   ],
   "source": [
    "name=input(\"Enter your Full Name\")\n",
    "initials=\"\"\n",
    "initials += name[0].upper() + \". \"\n",
    "for i in range(len(name)):\n",
    "    if name[i]==\" \":\n",
    "        initials+=name[i+1].upper()+\". \"\n",
    "\n",
    "print(\"Initials:\", initials)\n"
   ]
  },
  {
   "cell_type": "markdown",
   "metadata": {},
   "source": [
    "7. A palindrome is a string that reads the same backward as forward. For example, the words dad,\n",
    "madam and radar are all palindromes. Write a programs that determines whether the string is a\n",
    "palindrome.\n",
    "Note: do not use reverse() method \n"
   ]
  },
  {
   "cell_type": "code",
   "execution_count": 16,
   "metadata": {},
   "outputs": [
    {
     "name": "stdout",
     "output_type": "stream",
     "text": [
      "Palindrome\n"
     ]
    }
   ],
   "source": [
    "str=input(\"Enter any String\")\n",
    "palindormeStr=str[::-1]\n",
    "if str==palindormeStr:\n",
    "    print(\"Palindrome\")\n",
    "else:\n",
    "    print(\"Not Palindrome\")"
   ]
  },
  {
   "cell_type": "markdown",
   "metadata": {},
   "source": [
    "8. Write a program that display following output:\n",
    "SHIFT\n",
    "HIFTS\n",
    "IFTSH\n",
    "FTSHI\n",
    "TSHIF\n",
    "SHIFT \n"
   ]
  },
  {
   "cell_type": "code",
   "execution_count": 17,
   "metadata": {},
   "outputs": [
    {
     "name": "stdout",
     "output_type": "stream",
     "text": [
      "SHIFT\n",
      "HIFTS\n",
      "IFTSH\n",
      "FTSHI\n",
      "TSHIF\n",
      "SHIFT\n"
     ]
    }
   ],
   "source": [
    "word = \"SHIFT\"\n",
    "\n",
    "for i in range(len(word) + 1):\n",
    "    rotated = word[i:] + word[:i]\n",
    "    print(rotated)\n"
   ]
  },
  {
   "cell_type": "markdown",
   "metadata": {},
   "source": [
    "9. Write a program in python that accepts a string to setup a passwords. Your entered password must\n",
    "meet the following requirements:\n",
    "The password must be at least eight characters long.\n",
    "It must contain at least one uppercase letter.\n",
    "It must contain at least one lowercase letter.\n",
    "It must contain at least one numeric digit.\n",
    "Your program should should perform this validation."
   ]
  },
  {
   "cell_type": "code",
   "execution_count": 19,
   "metadata": {},
   "outputs": [
    {
     "name": "stdout",
     "output_type": "stream",
     "text": [
      "✅ Password is valid!\n"
     ]
    }
   ],
   "source": [
    "password = input(\"Enter your password: \")\n",
    "\n",
    "has_upper = False\n",
    "has_lower = False\n",
    "has_digit = False\n",
    "\n",
    "if len(password) >= 8:\n",
    "    for char in password:\n",
    "        if char.isupper():\n",
    "            has_upper = True\n",
    "        elif char.islower():\n",
    "            has_lower = True\n",
    "        elif char.isdigit():\n",
    "            has_digit = True\n",
    "            \n",
    "    if has_upper and has_lower and has_digit:\n",
    "        print(\"✅ Password is valid!\")\n",
    "    else:\n",
    "        print(\"❌ Password must contain at least one uppercase, one lowercase, and one digit.\")\n",
    "else:\n",
    "    print(\"❌ Password must be at least 8 characters long.\")\n"
   ]
  }
 ],
 "metadata": {
  "kernelspec": {
   "display_name": "Python 3",
   "language": "python",
   "name": "python3"
  },
  "language_info": {
   "codemirror_mode": {
    "name": "ipython",
    "version": 3
   },
   "file_extension": ".py",
   "mimetype": "text/x-python",
   "name": "python",
   "nbconvert_exporter": "python",
   "pygments_lexer": "ipython3",
   "version": "3.13.2"
  }
 },
 "nbformat": 4,
 "nbformat_minor": 2
}
